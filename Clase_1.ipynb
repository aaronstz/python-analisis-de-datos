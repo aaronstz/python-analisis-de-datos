{
  "nbformat": 4,
  "nbformat_minor": 0,
  "metadata": {
    "colab": {
      "provenance": [],
      "include_colab_link": true
    },
    "kernelspec": {
      "name": "python3",
      "display_name": "Python 3"
    },
    "language_info": {
      "name": "python"
    }
  },
  "cells": [
    {
      "cell_type": "markdown",
      "metadata": {
        "id": "view-in-github",
        "colab_type": "text"
      },
      "source": [
        "<a href=\"https://colab.research.google.com/github/aaronstz/python-analisis-de-datos/blob/main/Clase_1.ipynb\" target=\"_parent\"><img src=\"https://colab.research.google.com/assets/colab-badge.svg\" alt=\"Open In Colab\"/></a>"
      ]
    },
    {
      "cell_type": "markdown",
      "source": [
        "#**Actividad 1**\n",
        "\n",
        "*Realizar la actividad en grupos de 2 o 3 personas*\n",
        "\n",
        "**Consigna 1:**\n",
        "*Hacer en el cuaderno*\n",
        "\n",
        "Imaginen que son vendedores de un supermercado. Escriban las instrucciones para conocer cómo calcular el precio total de la siguiente venta: dos paquetes de arroz (cada uno sale 300 pesos) y cinco paquetes de fideos (cada uno sale 400 pesos).\n",
        "\n",
        "\n",
        "\n"
      ],
      "metadata": {
        "id": "cGeXNl5JgGFX"
      }
    },
    {
      "cell_type": "markdown",
      "source": [
        "**Consigna 2:**\n",
        "*Hacer en el cuaderno*\n",
        "\n",
        " Ahora se agrega al pedido anterior 3 paquetes de chocolate (cada uno sale 500 pesos), escriban las instrucciones del nuevo pedido."
      ],
      "metadata": {
        "id": "pEEl1xJPolsL"
      }
    },
    {
      "cell_type": "markdown",
      "source": [
        "\n",
        "**Consigna 3:**\n",
        "\n",
        "*hacer sin computadora*\n",
        "\n",
        "¿Cuál es la información relevante para poder hacer el cálculo del precio total de la compra?\n",
        "A partir de esa info, elaboren una fórmula que modele la situación de la consigna 1."
      ],
      "metadata": {
        "id": "X1e-dZjNol4S"
      }
    },
    {
      "cell_type": "markdown",
      "source": [
        "\n",
        "**Consigna 4**\n",
        "\n",
        "El siguiente código resuelve el problema de la consigna 1. Observénlo. ¿hay alguna relación entre lo escrito en la *terminal* y lo que ustedes hicieron en la consigna 3? ¿cuál es? ¿para qué puede servir, entonces, pensar la fórmula de un problema?\n",
        "\n"
      ],
      "metadata": {
        "id": "MiH_bXnhomM2"
      }
    },
    {
      "cell_type": "code",
      "execution_count": null,
      "metadata": {
        "colab": {
          "base_uri": "https://localhost:8080/"
        },
        "id": "4LTdSOI3gE5L",
        "outputId": "18f26cba-5971-43f1-b390-5659a95a13ee"
      },
      "outputs": [
        {
          "output_type": "stream",
          "name": "stdout",
          "text": [
            "2600\n"
          ]
        }
      ],
      "source": [
        "# Indicar el precio de cada producto\n",
        "precio_arroz = 300\n",
        "precio_fideos = 400\n",
        "\n",
        "#Indicar la cantidad de cada producto a comprar\n",
        "cant_arroz=2\n",
        "cant_fideos=5\n",
        "\n",
        "#Calcular el importe de compra\n",
        "importe_compra= precio_arroz*cant_arroz+precio_fideos*cant_fideos\n",
        "\n",
        "#Informar el valor del importe\n",
        "print(importe_compra)"
      ]
    },
    {
      "cell_type": "markdown",
      "source": [
        "**Consigna 5**\n",
        "\n",
        "Ahora les dejamos a continuación una terminal vacía. Copien ahí lo que está en la terminal anterior  y modifiquen el código para agregar los 3 paquetes de chocolate de la consigna 2 de esta actividad en el cálculo del importe de la compra"
      ],
      "metadata": {
        "id": "KpozTHfBpyGF"
      }
    },
    {
      "cell_type": "code",
      "source": [
        "# resolución...\n",
        "# Indicar el precio de cada producto\n",
        "precio_arroz = 300\n",
        "precio_fideos = 400\n",
        "precio_chocolate = 500\n",
        "\n",
        "#Indicar la cantidad de cada producto a comprar\n",
        "cant_arroz=2\n",
        "cant_fideos=5\n",
        "cant_chocolate=3\n",
        "\n",
        "#Calcular el importe de compra\n",
        "importe_compra= precio_arroz*cant_arroz+precio_fideos*cant_fideos+precio_chocolate*cant_chocolate\n",
        "\n",
        "#Informar el valor del importe\n",
        "print(importe_compra)\n"
      ],
      "metadata": {
        "id": "QhpowDbgqDp5",
        "colab": {
          "base_uri": "https://localhost:8080/"
        },
        "outputId": "d321e429-b846-49ee-95c4-e7ceb47e50a8"
      },
      "execution_count": null,
      "outputs": [
        {
          "output_type": "stream",
          "name": "stdout",
          "text": [
            "4100\n"
          ]
        }
      ]
    },
    {
      "cell_type": "markdown",
      "source": [
        "# **Actividad 2**\n",
        "\n",
        "**Consigna 1**:\n",
        "\n",
        "El siguiente algoritmo les pregunta su nombre, lugar de donde provienen y edad, y lo guarda. Miren cómo funciona y ejecútenlo.\n",
        "Escribir la información obtenida en la pantalla\n",
        "\n"
      ],
      "metadata": {
        "id": "k5eG6s9fZukN"
      }
    },
    {
      "cell_type": "code",
      "source": [
        "nombre=input('Escribir nombre ')\n",
        "procedencia=input('lugar de procedencia ')\n",
        "edad=input('edad')"
      ],
      "metadata": {
        "id": "atTWPZ2wXcpL",
        "colab": {
          "base_uri": "https://localhost:8080/"
        },
        "outputId": "c9e2903a-c0ee-4734-9c48-1fc25dfac596"
      },
      "execution_count": null,
      "outputs": [
        {
          "name": "stdout",
          "output_type": "stream",
          "text": [
            "Escribir nombre aaron\n",
            "lugar de procedencia buenos aires\n",
            "edad22\n"
          ]
        }
      ]
    },
    {
      "cell_type": "markdown",
      "source": [
        "Veamos qué hizo el algoritmo"
      ],
      "metadata": {
        "id": "-9ThCJeqZsqS"
      }
    },
    {
      "cell_type": "code",
      "source": [
        "print(nombre)\n",
        "print(procedencia)\n",
        "print(edad)\n"
      ],
      "metadata": {
        "colab": {
          "base_uri": "https://localhost:8080/"
        },
        "id": "vOB8O69qXdIL",
        "outputId": "d76014b6-8634-476e-eb1b-e75d45b41ff7"
      },
      "execution_count": null,
      "outputs": [
        {
          "output_type": "stream",
          "name": "stdout",
          "text": [
            "aaron\n",
            "buenos aires\n",
            "22\n"
          ]
        }
      ]
    },
    {
      "cell_type": "markdown",
      "source": [
        "**Consigna 2**:\n",
        "¿Qué modificaciones habría que hacerle al algoritmo si se quisiera saber primero la edad, luego el nombre y por último el lugar de procedencia? ¿y si quisiéramos además conocer el gusto de helado favorito?\n"
      ],
      "metadata": {
        "id": "b0ZECewSafRI"
      }
    },
    {
      "cell_type": "code",
      "source": [
        "#Hacer las modificaciones correspondientes para cumplir con la consigna 2\n",
        "print(edad)\n",
        "print(nombre)\n",
        "print(procedencia)\n",
        "helado=input('escribir gusto de helado favorito ')"
      ],
      "metadata": {
        "id": "Y4vIxqnvXfmL",
        "colab": {
          "base_uri": "https://localhost:8080/"
        },
        "outputId": "ce39baf5-55b4-485c-9fb8-82e971e4ba46"
      },
      "execution_count": null,
      "outputs": [
        {
          "name": "stdout",
          "output_type": "stream",
          "text": [
            "22\n",
            "aaron\n",
            "buenos aires\n",
            "escribir gusto de helado favoritochocolate\n"
          ]
        }
      ]
    },
    {
      "cell_type": "code",
      "source": [
        "#edad=\n",
        "\n",
        "#comparación"
      ],
      "metadata": {
        "id": "WuAavongapLC"
      },
      "execution_count": null,
      "outputs": []
    },
    {
      "cell_type": "markdown",
      "source": [
        "**Consigna 3:**\n",
        "\n",
        "El siguiente código sirve para clasificar, conociendo el salario de una persona, si cobra más o menos de 100 pesos la hora. Si cobra más, escribe en la pantalla “el salario es mayor a 100 por hora”. Si cobra menos, escribe “el salario es menor a 100 por hora”.\n",
        "\n"
      ],
      "metadata": {
        "id": "N0NBd-GdcN-l"
      }
    },
    {
      "cell_type": "code",
      "source": [
        "#introducimos valor hora del salario\n",
        "salario=50\n",
        "\n",
        "#decide si es mayor a 100\n",
        "if salario>100:\n",
        "  print('el salario es mayor a 100 por hora')\n",
        "\n",
        "else:\n",
        "  print('el salario es menor a 100 por hora')"
      ],
      "metadata": {
        "colab": {
          "base_uri": "https://localhost:8080/"
        },
        "id": "hhY4EcUGkWbA",
        "outputId": "4600c17b-4fd4-4658-c174-973feb13c70d"
      },
      "execution_count": null,
      "outputs": [
        {
          "output_type": "stream",
          "name": "stdout",
          "text": [
            "el salario es menor a 100 por hora\n"
          ]
        }
      ]
    },
    {
      "cell_type": "markdown",
      "source": [
        "\n",
        "A partir del código anterior, hagan un algoritmo que decida si una persona es mayor de edad o no y lo informe en la pantalla."
      ],
      "metadata": {
        "id": "E2PnMXS9k1gt"
      }
    },
    {
      "cell_type": "code",
      "source": [
        "#Resolución...\n",
        "edad=int(input('ingrese su edad'))\n",
        "\n",
        "if edad >= 18:\n",
        "    print('la persona es mayor de edad')\n",
        "\n",
        "else:\n",
        "    print('la persona es menor de edad')"
      ],
      "metadata": {
        "id": "DyfCwT55lWbP",
        "colab": {
          "base_uri": "https://localhost:8080/",
          "height": 669
        },
        "outputId": "94ee8fd6-a3db-4187-b6ae-106aa90a7482"
      },
      "execution_count": null,
      "outputs": [
        {
          "output_type": "error",
          "ename": "KeyboardInterrupt",
          "evalue": "ignored",
          "traceback": [
            "\u001b[0;31m---------------------------------------------------------------------------\u001b[0m",
            "\u001b[0;31mKeyboardInterrupt\u001b[0m                         Traceback (most recent call last)",
            "\u001b[0;32m<ipython-input-1-902aa3a9b04d>\u001b[0m in \u001b[0;36m<cell line: 2>\u001b[0;34m()\u001b[0m\n\u001b[1;32m      1\u001b[0m \u001b[0;31m#Resolución...\u001b[0m\u001b[0;34m\u001b[0m\u001b[0;34m\u001b[0m\u001b[0m\n\u001b[0;32m----> 2\u001b[0;31m \u001b[0medad\u001b[0m\u001b[0;34m=\u001b[0m\u001b[0mint\u001b[0m\u001b[0;34m(\u001b[0m\u001b[0minput\u001b[0m\u001b[0;34m(\u001b[0m\u001b[0;34m'ingrese su edad'\u001b[0m\u001b[0;34m)\u001b[0m\u001b[0;34m)\u001b[0m\u001b[0;34m\u001b[0m\u001b[0;34m\u001b[0m\u001b[0m\n\u001b[0m\u001b[1;32m      3\u001b[0m \u001b[0;34m\u001b[0m\u001b[0m\n\u001b[1;32m      4\u001b[0m \u001b[0;32mif\u001b[0m \u001b[0medad\u001b[0m \u001b[0;34m>=\u001b[0m \u001b[0;36m18\u001b[0m\u001b[0;34m:\u001b[0m\u001b[0;34m\u001b[0m\u001b[0;34m\u001b[0m\u001b[0m\n\u001b[1;32m      5\u001b[0m     \u001b[0mprint\u001b[0m\u001b[0;34m(\u001b[0m\u001b[0;34m'la persona es mayor de edad'\u001b[0m\u001b[0;34m)\u001b[0m\u001b[0;34m\u001b[0m\u001b[0;34m\u001b[0m\u001b[0m\n",
            "\u001b[0;32m/usr/local/lib/python3.10/dist-packages/ipykernel/kernelbase.py\u001b[0m in \u001b[0;36mraw_input\u001b[0;34m(self, prompt)\u001b[0m\n\u001b[1;32m    849\u001b[0m                 \u001b[0;34m\"raw_input was called, but this frontend does not support input requests.\"\u001b[0m\u001b[0;34m\u001b[0m\u001b[0;34m\u001b[0m\u001b[0m\n\u001b[1;32m    850\u001b[0m             )\n\u001b[0;32m--> 851\u001b[0;31m         return self._input_request(str(prompt),\n\u001b[0m\u001b[1;32m    852\u001b[0m             \u001b[0mself\u001b[0m\u001b[0;34m.\u001b[0m\u001b[0m_parent_ident\u001b[0m\u001b[0;34m,\u001b[0m\u001b[0;34m\u001b[0m\u001b[0;34m\u001b[0m\u001b[0m\n\u001b[1;32m    853\u001b[0m             \u001b[0mself\u001b[0m\u001b[0;34m.\u001b[0m\u001b[0m_parent_header\u001b[0m\u001b[0;34m,\u001b[0m\u001b[0;34m\u001b[0m\u001b[0;34m\u001b[0m\u001b[0m\n",
            "\u001b[0;32m/usr/local/lib/python3.10/dist-packages/ipykernel/kernelbase.py\u001b[0m in \u001b[0;36m_input_request\u001b[0;34m(self, prompt, ident, parent, password)\u001b[0m\n\u001b[1;32m    893\u001b[0m             \u001b[0;32mexcept\u001b[0m \u001b[0mKeyboardInterrupt\u001b[0m\u001b[0;34m:\u001b[0m\u001b[0;34m\u001b[0m\u001b[0;34m\u001b[0m\u001b[0m\n\u001b[1;32m    894\u001b[0m                 \u001b[0;31m# re-raise KeyboardInterrupt, to truncate traceback\u001b[0m\u001b[0;34m\u001b[0m\u001b[0;34m\u001b[0m\u001b[0m\n\u001b[0;32m--> 895\u001b[0;31m                 \u001b[0;32mraise\u001b[0m \u001b[0mKeyboardInterrupt\u001b[0m\u001b[0;34m(\u001b[0m\u001b[0;34m\"Interrupted by user\"\u001b[0m\u001b[0;34m)\u001b[0m \u001b[0;32mfrom\u001b[0m \u001b[0;32mNone\u001b[0m\u001b[0;34m\u001b[0m\u001b[0;34m\u001b[0m\u001b[0m\n\u001b[0m\u001b[1;32m    896\u001b[0m             \u001b[0;32mexcept\u001b[0m \u001b[0mException\u001b[0m \u001b[0;32mas\u001b[0m \u001b[0me\u001b[0m\u001b[0;34m:\u001b[0m\u001b[0;34m\u001b[0m\u001b[0;34m\u001b[0m\u001b[0m\n\u001b[1;32m    897\u001b[0m                 \u001b[0mself\u001b[0m\u001b[0;34m.\u001b[0m\u001b[0mlog\u001b[0m\u001b[0;34m.\u001b[0m\u001b[0mwarning\u001b[0m\u001b[0;34m(\u001b[0m\u001b[0;34m\"Invalid Message:\"\u001b[0m\u001b[0;34m,\u001b[0m \u001b[0mexc_info\u001b[0m\u001b[0;34m=\u001b[0m\u001b[0;32mTrue\u001b[0m\u001b[0;34m)\u001b[0m\u001b[0;34m\u001b[0m\u001b[0;34m\u001b[0m\u001b[0m\n",
            "\u001b[0;31mKeyboardInterrupt\u001b[0m: Interrupted by user"
          ]
        }
      ]
    },
    {
      "cell_type": "markdown",
      "source": [
        "¿el algoritmo que hicieron hace lo que ustedes pusieron en la consigna 1 de la actividad anterior? ¿En qué momento toma la decisión?\n"
      ],
      "metadata": {
        "id": "LJ7-yKY8kZXz"
      }
    },
    {
      "cell_type": "markdown",
      "source": [
        "# **Actividad 4: El semáforo**\n",
        "\n",
        "**Consigna 1**\n",
        "\n",
        "*Hacer en el cuaderno*\n",
        "\n",
        "Teniendo en cuenta, lo  visto en el ejercicio anterior, crear un algoritmo que indique que pare si la luz está roja y que avance si la luz está verde.\n",
        "\n",
        "*Luego traslademos a código en el colab*\n",
        "\n",
        "\n",
        "\n"
      ],
      "metadata": {
        "id": "rfx045HlwONh"
      }
    },
    {
      "cell_type": "code",
      "source": [
        "# Resolución\n",
        "luz= 'roja'\n",
        "\n",
        "if luz == 'roja':\n",
        "  print('detenerse')\n",
        "\n",
        "if luz == 'verde':\n",
        "  print('avanzar')"
      ],
      "metadata": {
        "id": "yI1VVN-Ew2R7",
        "colab": {
          "base_uri": "https://localhost:8080/"
        },
        "outputId": "509ded6b-982f-4654-b66e-5a6ed3c30d98"
      },
      "execution_count": null,
      "outputs": [
        {
          "output_type": "stream",
          "name": "stdout",
          "text": [
            "detenerse\n"
          ]
        }
      ]
    },
    {
      "cell_type": "markdown",
      "source": [
        "**Consigna 2**\n",
        "\n",
        "¿Cómo deberíamos modificar el código para que pare si la luz está roja, avance si la luz está verde y que acelere si la luz está amarilla?\n",
        "\n",
        "*Usen la pista que está en la diapositiva*"
      ],
      "metadata": {
        "id": "xH9WWcxjw68K"
      }
    },
    {
      "cell_type": "code",
      "source": [
        "#Resolución\n",
        "luz= 'amarilla'\n",
        "\n",
        "if luz == 'roja':\n",
        "  print('detenerse')\n",
        "\n",
        "if luz == 'amarilla':\n",
        "  print('acelere')\n",
        "\n",
        "if luz == 'verde':\n",
        "  print('avance')"
      ],
      "metadata": {
        "id": "sSBtk7W4w5gm",
        "colab": {
          "base_uri": "https://localhost:8080/"
        },
        "outputId": "7d4df984-6d7b-41d3-f545-26bbc1341e94"
      },
      "execution_count": null,
      "outputs": [
        {
          "output_type": "stream",
          "name": "stdout",
          "text": [
            "acelere\n"
          ]
        }
      ]
    },
    {
      "cell_type": "markdown",
      "source": [
        "**Consigna 3**\n",
        "\n",
        "Agreguemosle al código la luz naranja para que frene.\n"
      ],
      "metadata": {
        "id": "_hLkNU_zxSAw"
      }
    },
    {
      "cell_type": "code",
      "source": [
        "#Resolución\n",
        "\n",
        "luz= 'naranja'\n",
        "\n",
        "if luz == 'roja':\n",
        "  print('detenerse')\n",
        "\n",
        "if luz == 'amarilla':\n",
        "  print('acelere')\n",
        "\n",
        "if luz == 'verde':\n",
        "  print('avance')\n",
        "\n",
        "if luz == 'naranja':\n",
        "  print('frene')"
      ],
      "metadata": {
        "id": "IuLj9OWbxlU7"
      },
      "execution_count": null,
      "outputs": []
    },
    {
      "cell_type": "markdown",
      "source": [
        "# **Actividad 5: Opciones de películas**\n",
        "\n",
        "Transformá el siguiente algoritmo a código de python y ejecutalo en el Colab\n",
        "\n",
        "\"#Imprimir el siguiente mensaje\"\n",
        "\n",
        "\"Selecciona un número que indique el nombre de tu película favorita:\n",
        "\n",
        "1.Opción 1\n",
        "\n",
        "2.Opción 2\n",
        "\n",
        "3.Opción 3\n",
        "\n",
        "4.Opción 4\n",
        "\n",
        "5.Otro\"\n",
        "\n",
        "\"#Pedirle al usuario el número de la opción escogida.\"\n",
        "\"# Realizar un condicional anidado que a partir del número escogido imprima la ficha de la película\"\n",
        "\n",
        "Si no selecciona ninguna de las opciones debe imprimirse un mensaje de error.\n"
      ],
      "metadata": {
        "id": "udgSOxXZx4yK"
      }
    },
    {
      "cell_type": "code",
      "source": [
        "#Resolución\n",
        "print('Selecciona un número que indique el nombre de tu película favorita')\n",
        "\n",
        "opcion1 = 'Opción 1: Madagascar'\n",
        "opcion2 = 'Opción 2: Los Increíbles'\n",
        "opcion3 = 'Opción 3: Saw'\n",
        "opcion4 = 'Opción 4: Los Vengadores'\n",
        "\n",
        "print(opcion1, opcion2, opcion3, opcion4)\n",
        "\n",
        "opcion1_info = 'Madagascar. 17 de junio de 2005 en cines / 1h 26min / Animación , Aventura...'\n",
        "opcion2_info = 'Una familia de superhéroes, obligados a vivir como civiles, vuelve a la acción...'\n",
        "opcion3_info = 'Es una película de terror y Aventura estrenada en 2004 y dirigida por James Wan...'\n",
        "opcion4_info = 'Cuando un enemigo inesperado surge como una gran amenaza para la seguridad mundial...'\n",
        "\n",
        "numero = input()\n",
        "\n",
        "eleccion = 'opcion' + numero\n",
        "\n",
        "if eleccion == 'opcion1':\n",
        "  print(opcion1_info)\n",
        "elif eleccion == 'opcion2':\n",
        "  print(opcion2_info)\n",
        "elif eleccion == 'opcion3':\n",
        "  print(opcion3_info)\n",
        "elif eleccion == 'opcion4':\n",
        "  print(opcion4_info)\n",
        "else:\n",
        "  print('Selecciona una de las opciones')"
      ],
      "metadata": {
        "id": "VOaRfqaYx4Hw",
        "colab": {
          "base_uri": "https://localhost:8080/"
        },
        "outputId": "0ec84aad-7aea-4d34-c1b5-e6ef37db0682"
      },
      "execution_count": null,
      "outputs": [
        {
          "output_type": "stream",
          "name": "stdout",
          "text": [
            "Selecciona un número que indique el nombre de tu película favorita\n",
            "Opción 1: Madagascar Opción 2: Los Increíbles Opción 3: Saw Opción 4: Los Vengadores\n",
            "2\n",
            "Una familia de superhéroes, obligados a vivir como civiles, vuelve a la acción...\n"
          ]
        }
      ]
    }
  ]
}